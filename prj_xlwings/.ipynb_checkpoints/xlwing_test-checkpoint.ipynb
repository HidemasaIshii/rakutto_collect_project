{
 "cells": [
  {
   "cell_type": "code",
   "execution_count": 1,
   "metadata": {},
   "outputs": [
    {
     "name": "stderr",
     "output_type": "stream",
     "text": [
      "/Users/shun/.pyenv/versions/3.8.2/envs/my_global/lib/python3.8/site-packages/pandas/compat/__init__.py:117: UserWarning: Could not import the lzma module. Your installed Python is incomplete. Attempting to use lzma compression will result in a RuntimeError.\n",
      "  warnings.warn(msg)\n"
     ]
    }
   ],
   "source": [
    "import xlwings as xw\n",
    "import glob"
   ]
  },
  {
   "cell_type": "code",
   "execution_count": 2,
   "metadata": {},
   "outputs": [],
   "source": [
    "PATH = \"./xlsx_files\""
   ]
  },
  {
   "cell_type": "code",
   "execution_count": 3,
   "metadata": {},
   "outputs": [],
   "source": [
    "path2xlsx = PATH + \"/*.xlsx\"\n",
    "xlsxpaths = glob.glob(path2xlsx)"
   ]
  },
  {
   "cell_type": "code",
   "execution_count": 4,
   "metadata": {},
   "outputs": [
    {
     "data": {
      "text/plain": [
       "['./xlsx_files/excel_hacking_3.xlsx',\n",
       " './xlsx_files/excel_hacking_2.xlsx',\n",
       " './xlsx_files/excel_hacking_4.xlsx',\n",
       " './xlsx_files/~$excel_hacking_1.xlsx',\n",
       " './xlsx_files/excel_hacking_1.xlsx']"
      ]
     },
     "execution_count": 4,
     "metadata": {},
     "output_type": "execute_result"
    }
   ],
   "source": [
    "xlsxpaths"
   ]
  },
  {
   "cell_type": "code",
   "execution_count": 5,
   "metadata": {},
   "outputs": [],
   "source": [
    "wb=xw.Book(r'./xlsx_files/excel_hacking_1.xlsx')"
   ]
  },
  {
   "cell_type": "code",
   "execution_count": 6,
   "metadata": {},
   "outputs": [
    {
     "name": "stdout",
     "output_type": "stream",
     "text": [
      "Sheet1\n"
     ]
    }
   ],
   "source": [
    "for ws in wb.sheets:\n",
    "    print(ws.name)"
   ]
  },
  {
   "cell_type": "code",
   "execution_count": 7,
   "metadata": {},
   "outputs": [],
   "source": [
    "ws = wb.sheets['Sheet1']"
   ]
  },
  {
   "cell_type": "code",
   "execution_count": 8,
   "metadata": {},
   "outputs": [],
   "source": [
    "shapes=ws.shapes"
   ]
  },
  {
   "cell_type": "code",
   "execution_count": 9,
   "metadata": {},
   "outputs": [
    {
     "data": {
      "text/plain": [
       "Shapes([<Shape 'Frame 1' in <Sheet [excel_hacking_1.xlsx]Sheet1>>, <Shape 'Frame 2' in <Sheet [excel_hacking_1.xlsx]Sheet1>>, <Shape 'Frame 3' in <Sheet [excel_hacking_1.xlsx]Sheet1>>])"
      ]
     },
     "execution_count": 9,
     "metadata": {},
     "output_type": "execute_result"
    }
   ],
   "source": [
    "shapes"
   ]
  },
  {
   "cell_type": "code",
   "execution_count": 10,
   "metadata": {},
   "outputs": [
    {
     "data": {
      "text/plain": [
       "3"
      ]
     },
     "execution_count": 10,
     "metadata": {},
     "output_type": "execute_result"
    }
   ],
   "source": [
    "len(shapes)"
   ]
  },
  {
   "cell_type": "code",
   "execution_count": 11,
   "metadata": {},
   "outputs": [
    {
     "name": "stdout",
     "output_type": "stream",
     "text": [
      "shape1\n",
      "hight: 23.0\n",
      "width: 50.0\n",
      "top: 80.0\n",
      "left: 303.0\n",
      "shape2\n",
      "hight: 19.0\n",
      "width: 73.0\n",
      "top: 21.0\n",
      "left: 5.0\n",
      "shape3\n",
      "hight: 19.0\n",
      "width: 63.0\n",
      "top: 83.0\n",
      "left: 1.0\n"
     ]
    }
   ],
   "source": [
    "for i in range(1,len(shapes)+1):\n",
    "    print('shape'+str(i))\n",
    "    shape = ws.shapes[i-1]\n",
    "    print('hight: '+ str(shape.height))\n",
    "    print('width: '+ str(shape.width))\n",
    "    print('top: '+ str(shape.top))\n",
    "    print('left: '+ str(shape.left))\n",
    "    "
   ]
  },
  {
   "cell_type": "code",
   "execution_count": 34,
   "metadata": {},
   "outputs": [],
   "source": [
    "max_col=10\n",
    "max_row=10"
   ]
  },
  {
   "cell_type": "code",
   "execution_count": 35,
   "metadata": {},
   "outputs": [
    {
     "data": {
      "text/plain": [
       "<Range [excel_hacking_1.xlsx]Sheet1!$A$1:$J$10>"
      ]
     },
     "execution_count": 35,
     "metadata": {},
     "output_type": "execute_result"
    }
   ],
   "source": [
    "ws.range((1,1),(max_row,max_col))"
   ]
  },
  {
   "cell_type": "code",
   "execution_count": 44,
   "metadata": {},
   "outputs": [],
   "source": [
    "l_row=[]\n",
    "for i in range(1,max_row+1):\n",
    "    l_row.append(ws.range((i,1)).top)"
   ]
  },
  {
   "cell_type": "code",
   "execution_count": 45,
   "metadata": {},
   "outputs": [
    {
     "data": {
      "text/plain": [
       "[0.0, 20.0, 40.0, 60.0, 80.0, 100.0, 120.0, 140.0, 160.0, 180.0]"
      ]
     },
     "execution_count": 45,
     "metadata": {},
     "output_type": "execute_result"
    }
   ],
   "source": [
    "l_row"
   ]
  },
  {
   "cell_type": "code",
   "execution_count": 41,
   "metadata": {},
   "outputs": [],
   "source": [
    "l_col=[]\n",
    "for i in range(1,max_col+1):\n",
    "    l_col.append(ws.range((1,i)).left)"
   ]
  },
  {
   "cell_type": "code",
   "execution_count": 42,
   "metadata": {},
   "outputs": [
    {
     "data": {
      "text/plain": [
       "[0.0, 75.0, 150.0, 225.0, 300.0, 352.0, 427.0, 502.0, 577.0, 652.0]"
      ]
     },
     "execution_count": 42,
     "metadata": {},
     "output_type": "execute_result"
    }
   ],
   "source": [
    "l_col"
   ]
  },
  {
   "cell_type": "code",
   "execution_count": 53,
   "metadata": {},
   "outputs": [
    {
     "name": "stdout",
     "output_type": "stream",
     "text": [
      "shape1 location\n",
      "[5, 5]\n",
      "shape2 location\n",
      "[2, 1]\n",
      "shape3 location\n",
      "[5, 1]\n"
     ]
    }
   ],
   "source": [
    "for i in range(1,len(shapes)+1):\n",
    "    print('shape'+str(i)+' location')\n",
    "    shape = ws.shapes[i-1]\n",
    "    \n",
    "    l_loc=[]\n",
    "    \n",
    "    for i in range(1,max_row+1):\n",
    "        if shape.top < l_row[i-1]:\n",
    "            l_loc.append(i-1)\n",
    "            break\n",
    "            \n",
    "    for i in range(1,max_col+1):\n",
    "        if shape.left < l_col[i-1]:\n",
    "            l_loc.append(i-1)\n",
    "            break\n",
    "    \n",
    "    print(l_loc)"
   ]
  },
  {
   "cell_type": "code",
   "execution_count": 67,
   "metadata": {},
   "outputs": [
    {
     "name": "stdout",
     "output_type": "stream",
     "text": [
      "shape1 cell width\n",
      "52.0\n",
      "shape2 cell width\n",
      "75.0\n",
      "shape3 cell width\n",
      "75.0\n"
     ]
    }
   ],
   "source": [
    "for i in range(1,len(shapes)+1):\n",
    "    print('shape'+str(i)+' cell width')\n",
    "    shape = ws.shapes[i-1]\n",
    "    \n",
    "    l_loc=[]\n",
    "    \n",
    "    for i in range(1,max_row+1):\n",
    "        if shape.top < l_row[i-1]:\n",
    "            l_loc.append(i-1)\n",
    "            break\n",
    "            \n",
    "    for i in range(1,max_col+1):\n",
    "        if shape.left < l_col[i-1]:\n",
    "            l_loc.append(i-1)\n",
    "            break\n",
    "    \n",
    "    shape_row=l_loc[0]\n",
    "    shape_col=l_loc[1]\n",
    "    \n",
    "    shape_cell_width=ws.range((shape_row,shape_col)).width\n",
    "    print(shape_cell_width)\n",
    "    "
   ]
  },
  {
   "cell_type": "code",
   "execution_count": 60,
   "metadata": {},
   "outputs": [
    {
     "data": {
      "text/plain": [
       "[0.0, 75.0, 150.0, 225.0, 300.0, 352.0, 427.0, 502.0, 577.0, 652.0]"
      ]
     },
     "execution_count": 60,
     "metadata": {},
     "output_type": "execute_result"
    }
   ],
   "source": [
    "l_col"
   ]
  },
  {
   "cell_type": "code",
   "execution_count": null,
   "metadata": {},
   "outputs": [],
   "source": [
    "shape_col"
   ]
  },
  {
   "cell_type": "code",
   "execution_count": 75,
   "metadata": {},
   "outputs": [
    {
     "name": "stdout",
     "output_type": "stream",
     "text": [
      "shape1 cell width\n",
      "3.0\n",
      "50.0\n",
      "28.0\n",
      "shape2 cell width\n",
      "5.0\n",
      "73.0\n",
      "41.5\n",
      "shape3 cell width\n",
      "1.0\n",
      "63.0\n",
      "32.5\n"
     ]
    }
   ],
   "source": [
    "for i in range(1,len(shapes)+1):\n",
    "    print('shape'+str(i)+' cell width')\n",
    "    shape = ws.shapes[i-1]\n",
    "    \n",
    "    l_loc=[]\n",
    "    \n",
    "    for i in range(1,max_row+1):\n",
    "        if shape.top < l_row[i-1]:\n",
    "            l_loc.append(i-1)\n",
    "            break\n",
    "            \n",
    "    for i in range(1,max_col+1):\n",
    "        if shape.left < l_col[i-1]:\n",
    "            l_loc.append(i-1)\n",
    "            break\n",
    "    \n",
    "    shape_row=l_loc[0]\n",
    "    shape_col=l_loc[1]\n",
    "    \n",
    "    print(shape.left-l_col[shape_col-1])\n",
    "    print(shape.width)\n",
    "    print((shape.left-l_col[shape_col-1])+(shape.width/2))\n",
    "    \n",
    "    "
   ]
  },
  {
   "cell_type": "code",
   "execution_count": 76,
   "metadata": {},
   "outputs": [
    {
     "name": "stdout",
     "output_type": "stream",
     "text": [
      "shape1 cell width\n",
      "this shape is in right position\n",
      "shape2 cell width\n",
      "this shape is in right position\n",
      "shape3 cell width\n",
      "this shape is in left position\n"
     ]
    }
   ],
   "source": [
    "for i in range(1,len(shapes)+1):\n",
    "    print('shape'+str(i)+' cell width')\n",
    "    shape = ws.shapes[i-1]\n",
    "    \n",
    "    l_loc=[]\n",
    "    \n",
    "    for i in range(1,max_row+1):\n",
    "        if shape.top < l_row[i-1]:\n",
    "            l_loc.append(i-1)\n",
    "            break\n",
    "            \n",
    "    for i in range(1,max_col+1):\n",
    "        if shape.left < l_col[i-1]:\n",
    "            l_loc.append(i-1)\n",
    "            break\n",
    "    \n",
    "    shape_row=l_loc[0]\n",
    "    shape_col=l_loc[1]\n",
    "    \n",
    "    shape_cell_center=((ws.range((shape_row,shape_col)).width)/2)\n",
    "    \n",
    "    shape_center=((shape.left-l_col[shape_col-1])+(shape.width/2))\n",
    "    \n",
    "    if shape_cell_center > shape_center:\n",
    "        print('this shape is in left position')\n",
    "    elif shape_cell_center < shape_center:\n",
    "        print('this shape is in right position')\n",
    "    else:\n",
    "        print('error')"
   ]
  },
  {
   "cell_type": "code",
   "execution_count": null,
   "metadata": {},
   "outputs": [],
   "source": []
  }
 ],
 "metadata": {
  "kernelspec": {
   "display_name": "Python 3",
   "language": "python",
   "name": "python3"
  },
  "language_info": {
   "codemirror_mode": {
    "name": "ipython",
    "version": 3
   },
   "file_extension": ".py",
   "mimetype": "text/x-python",
   "name": "python",
   "nbconvert_exporter": "python",
   "pygments_lexer": "ipython3",
   "version": "3.8.2"
  }
 },
 "nbformat": 4,
 "nbformat_minor": 4
}
