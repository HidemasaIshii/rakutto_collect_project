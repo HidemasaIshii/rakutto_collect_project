{
 "cells": [
  {
   "cell_type": "code",
   "execution_count": 1,
   "metadata": {},
   "outputs": [
    {
     "name": "stderr",
     "output_type": "stream",
     "text": [
      "/Users/shun/.pyenv/versions/3.8.2/envs/my_global/lib/python3.8/site-packages/pandas/compat/__init__.py:117: UserWarning: Could not import the lzma module. Your installed Python is incomplete. Attempting to use lzma compression will result in a RuntimeError.\n",
      "  warnings.warn(msg)\n"
     ]
    }
   ],
   "source": [
    "import xlwings as xw\n",
    "import glob"
   ]
  },
  {
   "cell_type": "code",
   "execution_count": 2,
   "metadata": {},
   "outputs": [],
   "source": [
    "PATH=\"./xlsx_files\""
   ]
  },
  {
   "cell_type": "code",
   "execution_count": 3,
   "metadata": {},
   "outputs": [],
   "source": [
    "path2xlsx=PATH+\"/*.xlsx\"\n",
    "xlsxpaths=glob.glob(path2xlsx)"
   ]
  },
  {
   "cell_type": "code",
   "execution_count": 4,
   "metadata": {},
   "outputs": [],
   "source": [
    "upper_left_name=\"UpL\"\n",
    "upper_right_name=\"UpR\"\n",
    "lower_left_name=\"LwL\"\n",
    "lower_right_name=\"LwR\"\n",
    "center_name=\"Ct\""
   ]
  },
  {
   "cell_type": "code",
   "execution_count": 5,
   "metadata": {},
   "outputs": [],
   "source": [
    "max_row=20\n",
    "max_col=20"
   ]
  },
  {
   "cell_type": "code",
   "execution_count": 6,
   "metadata": {},
   "outputs": [],
   "source": [
    "def getDicShapes(shapes):\n",
    "    dic_shapes={}\n",
    "    for i in range(1,len(shapes)+1):\n",
    "        s=shapes[i-1]\n",
    "        dic_s={\n",
    "        upper_left_name:[s.top, s.left],\n",
    "        upper_right_name:[s.top, s.left+s.width],\n",
    "        lower_left_name:[s.top+s.height, s.left],\n",
    "        lower_right_name:[s.top+s.height, s.left+s.width],\n",
    "        center_name:[s.top+(s.height/2), s.left+(s.width/2)],\n",
    "        }\n",
    "        dic_shapes['shape'+str(i)]=dic_s\n",
    "    return dic_shapes"
   ]
  },
  {
   "cell_type": "code",
   "execution_count": 7,
   "metadata": {},
   "outputs": [],
   "source": [
    "def getDicShapesCP(dic_shapes):\n",
    "    dic_shapes_cp={}\n",
    "    for k1,v1 in dic_shapes.items():\n",
    "        dic_s_cp={}\n",
    "        for k2,v2 in v1.items():\n",
    "            l_cp=[]\n",
    "            for i in range(1,max_row+1):\n",
    "                if v2[0] < l_row[i-1]:\n",
    "                    l_cp.append(i-1)\n",
    "                    break\n",
    "            for i in range(1,max_col+1):\n",
    "                if v2[1] < l_col[i-1]:\n",
    "                    l_cp.append(i-1)\n",
    "                    break\n",
    "            dic_s_cp[k2]=l_cp\n",
    "        dic_shapes_cp[k1]=dic_s_cp\n",
    "    return dic_shapes_cp"
   ]
  },
  {
   "cell_type": "code",
   "execution_count": 8,
   "metadata": {},
   "outputs": [],
   "source": [
    "dic_filesinfo={}\n",
    "for path in xlsxpaths:\n",
    "    wb=xw.Book(path)\n",
    "    ws1=wb.sheets['Sheet1']\n",
    "    \n",
    "    shapes=ws1.shapes\n",
    "    \n",
    "    l_row=[]\n",
    "    for i in range(1,max_row+1):\n",
    "        l_row.append(ws1.range((i,1)).top)\n",
    "        \n",
    "    l_col=[]\n",
    "    for i in range(1,max_col+1):\n",
    "        l_col.append(ws1.range((1,i)).left)\n",
    "        \n",
    "    dic_filesinfo[path]=getDicShapesCP(getDicShapes(shapes))\n",
    "    \n",
    "    wb.close()"
   ]
  },
  {
   "cell_type": "code",
   "execution_count": 9,
   "metadata": {},
   "outputs": [
    {
     "data": {
      "text/plain": [
       "{'./xlsx_files/excel_hacking_3.xlsx': {'shape1': {'UpL': [3, 6],\n",
       "   'UpR': [3, 8],\n",
       "   'LwL': [11, 6],\n",
       "   'LwR': [11, 8],\n",
       "   'Ct': [7, 7]},\n",
       "  'shape2': {'UpL': [2, 1],\n",
       "   'UpR': [2, 3],\n",
       "   'LwL': [4, 1],\n",
       "   'LwR': [4, 3],\n",
       "   'Ct': [3, 2]},\n",
       "  'shape3': {'UpL': [5, 1],\n",
       "   'UpR': [5, 1],\n",
       "   'LwL': [6, 1],\n",
       "   'LwR': [6, 1],\n",
       "   'Ct': [5, 1]}},\n",
       " './xlsx_files/excel_hacking_2.xlsx': {'shape1': {'UpL': [3, 6],\n",
       "   'UpR': [3, 8],\n",
       "   'LwL': [11, 6],\n",
       "   'LwR': [11, 8],\n",
       "   'Ct': [7, 7]},\n",
       "  'shape2': {'UpL': [2, 1],\n",
       "   'UpR': [2, 3],\n",
       "   'LwL': [4, 1],\n",
       "   'LwR': [4, 3],\n",
       "   'Ct': [3, 2]},\n",
       "  'shape3': {'UpL': [5, 1],\n",
       "   'UpR': [5, 1],\n",
       "   'LwL': [6, 1],\n",
       "   'LwR': [6, 1],\n",
       "   'Ct': [5, 1]}},\n",
       " './xlsx_files/excel_hacking_4.xlsx': {'shape1': {'UpL': [3, 6],\n",
       "   'UpR': [3, 8],\n",
       "   'LwL': [11, 6],\n",
       "   'LwR': [11, 8],\n",
       "   'Ct': [6, 7]},\n",
       "  'shape2': {'UpL': [2, 1],\n",
       "   'UpR': [2, 3],\n",
       "   'LwL': [4, 1],\n",
       "   'LwR': [4, 3],\n",
       "   'Ct': [3, 2]},\n",
       "  'shape3': {'UpL': [5, 1],\n",
       "   'UpR': [5, 2],\n",
       "   'LwL': [6, 1],\n",
       "   'LwR': [6, 2],\n",
       "   'Ct': [5, 1]}},\n",
       " './xlsx_files/excel_hacking_yn.xlsx': {'shape1': {'UpL': [1, 2],\n",
       "   'UpR': [1, 2],\n",
       "   'LwL': [3, 2],\n",
       "   'LwR': [3, 2],\n",
       "   'Ct': [2, 2]},\n",
       "  'shape2': {'UpL': [4, 2],\n",
       "   'UpR': [4, 2],\n",
       "   'LwL': [5, 2],\n",
       "   'LwR': [5, 2],\n",
       "   'Ct': [4, 2]},\n",
       "  'shape3': {'UpL': [2, 2],\n",
       "   'UpR': [2, 2],\n",
       "   'LwL': [4, 2],\n",
       "   'LwR': [4, 2],\n",
       "   'Ct': [3, 2]},\n",
       "  'shape4': {'UpL': [4, 2],\n",
       "   'UpR': [4, 2],\n",
       "   'LwL': [6, 2],\n",
       "   'LwR': [6, 2],\n",
       "   'Ct': [5, 2]},\n",
       "  'shape5': {'UpL': [5, 2],\n",
       "   'UpR': [5, 2],\n",
       "   'LwL': [7, 2],\n",
       "   'LwR': [7, 2],\n",
       "   'Ct': [6, 2]},\n",
       "  'shape6': {'UpL': [6, 2],\n",
       "   'UpR': [6, 2],\n",
       "   'LwL': [8, 2],\n",
       "   'LwR': [8, 2],\n",
       "   'Ct': [7, 2]},\n",
       "  'shape7': {'UpL': [7, 2],\n",
       "   'UpR': [7, 2],\n",
       "   'LwL': [9, 2],\n",
       "   'LwR': [9, 2],\n",
       "   'Ct': [8, 2]},\n",
       "  'shape8': {'UpL': [8, 2],\n",
       "   'UpR': [8, 2],\n",
       "   'LwL': [10, 2],\n",
       "   'LwR': [10, 2],\n",
       "   'Ct': [9, 2]},\n",
       "  'shape9': {'UpL': [9, 2],\n",
       "   'UpR': [9, 2],\n",
       "   'LwL': [11, 2],\n",
       "   'LwR': [11, 2],\n",
       "   'Ct': [10, 2]},\n",
       "  'shape10': {'UpL': [10, 2],\n",
       "   'UpR': [10, 2],\n",
       "   'LwL': [12, 2],\n",
       "   'LwR': [12, 2],\n",
       "   'Ct': [11, 2]},\n",
       "  'shape11': {'UpL': [11, 2],\n",
       "   'UpR': [11, 2],\n",
       "   'LwL': [13, 2],\n",
       "   'LwR': [13, 2],\n",
       "   'Ct': [12, 2]},\n",
       "  'shape12': {'UpL': [12, 2],\n",
       "   'UpR': [12, 2],\n",
       "   'LwL': [14, 2],\n",
       "   'LwR': [14, 2],\n",
       "   'Ct': [13, 2]},\n",
       "  'shape13': {'UpL': [13, 2],\n",
       "   'UpR': [13, 2],\n",
       "   'LwL': [15, 2],\n",
       "   'LwR': [15, 2],\n",
       "   'Ct': [14, 2]},\n",
       "  'shape14': {'UpL': [14, 2],\n",
       "   'UpR': [14, 2],\n",
       "   'LwL': [16, 2],\n",
       "   'LwR': [16, 2],\n",
       "   'Ct': [15, 2]}},\n",
       " './xlsx_files/excel_hacking_1.xlsx': {'shape1': {'UpL': [5, 5],\n",
       "   'UpR': [5, 6],\n",
       "   'LwL': [6, 5],\n",
       "   'LwR': [6, 6],\n",
       "   'Ct': [5, 5]},\n",
       "  'shape2': {'UpL': [2, 1],\n",
       "   'UpR': [2, 2],\n",
       "   'LwL': [3, 1],\n",
       "   'LwR': [3, 2],\n",
       "   'Ct': [2, 1]},\n",
       "  'shape3': {'UpL': [5, 1],\n",
       "   'UpR': [5, 1],\n",
       "   'LwL': [6, 1],\n",
       "   'LwR': [6, 1],\n",
       "   'Ct': [5, 1]}}}"
      ]
     },
     "execution_count": 9,
     "metadata": {},
     "output_type": "execute_result"
    }
   ],
   "source": [
    "dic_filesinfo"
   ]
  },
  {
   "cell_type": "code",
   "execution_count": null,
   "metadata": {},
   "outputs": [],
   "source": []
  }
 ],
 "metadata": {
  "kernelspec": {
   "display_name": "Python 3",
   "language": "python",
   "name": "python3"
  },
  "language_info": {
   "codemirror_mode": {
    "name": "ipython",
    "version": 3
   },
   "file_extension": ".py",
   "mimetype": "text/x-python",
   "name": "python",
   "nbconvert_exporter": "python",
   "pygments_lexer": "ipython3",
   "version": "3.8.2"
  }
 },
 "nbformat": 4,
 "nbformat_minor": 4
}
