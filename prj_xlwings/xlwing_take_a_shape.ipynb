{
 "cells": [
  {
   "cell_type": "code",
   "execution_count": 1,
   "metadata": {},
   "outputs": [
    {
     "name": "stderr",
     "output_type": "stream",
     "text": [
      "/Users/shun/.pyenv/versions/3.8.2/envs/my_global/lib/python3.8/site-packages/pandas/compat/__init__.py:117: UserWarning: Could not import the lzma module. Your installed Python is incomplete. Attempting to use lzma compression will result in a RuntimeError.\n",
      "  warnings.warn(msg)\n"
     ]
    }
   ],
   "source": [
    "import xlwings as xw\n",
    "import glob"
   ]
  },
  {
   "cell_type": "code",
   "execution_count": 2,
   "metadata": {},
   "outputs": [],
   "source": [
    "PATH=\"./xlsx_files\""
   ]
  },
  {
   "cell_type": "code",
   "execution_count": 3,
   "metadata": {},
   "outputs": [],
   "source": [
    "path2xlsx=PATH+\"/*.xlsx\"\n",
    "xlsxpaths=glob.glob(path2xlsx)"
   ]
  },
  {
   "cell_type": "code",
   "execution_count": 4,
   "metadata": {
    "collapsed": true,
    "jupyter": {
     "outputs_hidden": true,
     "source_hidden": true
    }
   },
   "outputs": [
    {
     "data": {
      "text/plain": [
       "['./xlsx_files/excel_hacking_3.xlsx',\n",
       " './xlsx_files/excel_hacking_2.xlsx',\n",
       " './xlsx_files/excel_hacking_4.xlsx',\n",
       " './xlsx_files/excel_hacking_yn.xlsx',\n",
       " './xlsx_files/excel_hacking_1.xlsx']"
      ]
     },
     "execution_count": 4,
     "metadata": {},
     "output_type": "execute_result"
    }
   ],
   "source": [
    "xlsxpaths"
   ]
  },
  {
   "cell_type": "code",
   "execution_count": 5,
   "metadata": {},
   "outputs": [],
   "source": [
    "app=xw.App(visible=False)"
   ]
  },
  {
   "cell_type": "code",
   "execution_count": 7,
   "metadata": {},
   "outputs": [],
   "source": [
    "wb=xw.Book(r'./xlsx_files/excel_hacking_yn.xlsx')\n",
    "ws=wb.sheets['Sheet1']"
   ]
  },
  {
   "cell_type": "code",
   "execution_count": 8,
   "metadata": {},
   "outputs": [],
   "source": [
    "shapes=ws.shapes"
   ]
  },
  {
   "cell_type": "code",
   "execution_count": 10,
   "metadata": {
    "collapsed": true,
    "jupyter": {
     "outputs_hidden": true,
     "source_hidden": true
    }
   },
   "outputs": [
    {
     "data": {
      "text/plain": [
       "14"
      ]
     },
     "execution_count": 10,
     "metadata": {},
     "output_type": "execute_result"
    }
   ],
   "source": [
    "len(shapes)"
   ]
  },
  {
   "cell_type": "code",
   "execution_count": 13,
   "metadata": {},
   "outputs": [],
   "source": [
    "s1=ws.shapes[0]"
   ]
  },
  {
   "cell_type": "code",
   "execution_count": 17,
   "metadata": {},
   "outputs": [],
   "source": [
    "upper_left_name=\"UpL\"\n",
    "upper_right_name=\"UpR\"\n",
    "lower_left_name=\"LwL\"\n",
    "lower_right_name=\"LwR\"\n",
    "center_name=\"Ct\""
   ]
  },
  {
   "cell_type": "code",
   "execution_count": 20,
   "metadata": {},
   "outputs": [],
   "source": [
    "dic_s1={\n",
    "    upper_left_name:[s1.top, s1.left],\n",
    "    upper_right_name:[s1.top, s1.left+s1.width],\n",
    "    lower_left_name:[s1.top+s1.height, s1.left],\n",
    "    lower_right_name:[s1.top+s1.height, s1.left+s1.width],\n",
    "    center_name:[s1.top+(s1.height/2), s1.left+(s1.width/2)],\n",
    "}"
   ]
  },
  {
   "cell_type": "code",
   "execution_count": 21,
   "metadata": {},
   "outputs": [
    {
     "data": {
      "text/plain": [
       "{'UpL': [18.0, 87.0],\n",
       " 'UpR': [18.0, 111.0],\n",
       " 'LwL': [43.0, 87.0],\n",
       " 'LwR': [43.0, 111.0],\n",
       " 'Ct': [30.5, 99.0]}"
      ]
     },
     "execution_count": 21,
     "metadata": {},
     "output_type": "execute_result"
    }
   ],
   "source": [
    "dic_s1"
   ]
  },
  {
   "cell_type": "code",
   "execution_count": 22,
   "metadata": {},
   "outputs": [],
   "source": [
    "max_row=20\n",
    "max_col=20"
   ]
  },
  {
   "cell_type": "code",
   "execution_count": 23,
   "metadata": {},
   "outputs": [],
   "source": [
    "l_row=[]\n",
    "for i in range(1,max_row+1):\n",
    "    l_row.append(ws.range((i,1)).top)"
   ]
  },
  {
   "cell_type": "code",
   "execution_count": 24,
   "metadata": {
    "collapsed": true,
    "jupyter": {
     "outputs_hidden": true,
     "source_hidden": true
    }
   },
   "outputs": [
    {
     "data": {
      "text/plain": [
       "[0.0,\n",
       " 20.0,\n",
       " 40.0,\n",
       " 60.0,\n",
       " 80.0,\n",
       " 100.0,\n",
       " 120.0,\n",
       " 140.0,\n",
       " 160.0,\n",
       " 180.0,\n",
       " 200.0,\n",
       " 220.0,\n",
       " 240.0,\n",
       " 260.0,\n",
       " 280.0,\n",
       " 300.0,\n",
       " 320.0,\n",
       " 340.0,\n",
       " 360.0,\n",
       " 380.0]"
      ]
     },
     "execution_count": 24,
     "metadata": {},
     "output_type": "execute_result"
    }
   ],
   "source": [
    "l_row"
   ]
  },
  {
   "cell_type": "code",
   "execution_count": 26,
   "metadata": {},
   "outputs": [],
   "source": [
    "l_col=[]\n",
    "for i in range(1,max_col+1):\n",
    "    l_col.append(ws.range((1,i)).left)"
   ]
  },
  {
   "cell_type": "code",
   "execution_count": 27,
   "metadata": {
    "collapsed": true,
    "jupyter": {
     "outputs_hidden": true,
     "source_hidden": true
    }
   },
   "outputs": [
    {
     "data": {
      "text/plain": [
       "[0.0,\n",
       " 75.0,\n",
       " 150.0,\n",
       " 225.0,\n",
       " 300.0,\n",
       " 375.0,\n",
       " 450.0,\n",
       " 525.0,\n",
       " 600.0,\n",
       " 675.0,\n",
       " 750.0,\n",
       " 825.0,\n",
       " 900.0,\n",
       " 975.0,\n",
       " 1050.0,\n",
       " 1125.0,\n",
       " 1200.0,\n",
       " 1275.0,\n",
       " 1350.0,\n",
       " 1425.0]"
      ]
     },
     "execution_count": 27,
     "metadata": {},
     "output_type": "execute_result"
    }
   ],
   "source": [
    "l_col"
   ]
  },
  {
   "cell_type": "code",
   "execution_count": 29,
   "metadata": {},
   "outputs": [],
   "source": [
    "dic_s1_cp={}\n",
    "\n",
    "for k,v in dic_s1.items():\n",
    "    l_cp=[]\n",
    "    for i in range(1,max_row+1):\n",
    "        if v[0] < l_row[i-1]:\n",
    "            l_cp.append(i-1)\n",
    "            break\n",
    "    for i in range(1,max_col+1):\n",
    "        if v[1] < l_col[i-1]:\n",
    "            l_cp.append(i-1)\n",
    "            break\n",
    "    dic_s1_cp[k]=l_cp"
   ]
  },
  {
   "cell_type": "code",
   "execution_count": 30,
   "metadata": {
    "collapsed": true,
    "jupyter": {
     "outputs_hidden": true,
     "source_hidden": true
    }
   },
   "outputs": [
    {
     "data": {
      "text/plain": [
       "{'UpL': [1, 2], 'UpR': [1, 2], 'LwL': [3, 2], 'LwR': [3, 2], 'Ct': [2, 2]}"
      ]
     },
     "execution_count": 30,
     "metadata": {},
     "output_type": "execute_result"
    }
   ],
   "source": [
    "dic_s1_cp"
   ]
  },
  {
   "cell_type": "code",
   "execution_count": 31,
   "metadata": {},
   "outputs": [],
   "source": [
    "wb.close()"
   ]
  },
  {
   "cell_type": "code",
   "execution_count": 32,
   "metadata": {},
   "outputs": [],
   "source": [
    "app.quit()"
   ]
  },
  {
   "cell_type": "code",
   "execution_count": null,
   "metadata": {},
   "outputs": [],
   "source": []
  }
 ],
 "metadata": {
  "kernelspec": {
   "display_name": "Python 3",
   "language": "python",
   "name": "python3"
  },
  "language_info": {
   "codemirror_mode": {
    "name": "ipython",
    "version": 3
   },
   "file_extension": ".py",
   "mimetype": "text/x-python",
   "name": "python",
   "nbconvert_exporter": "python",
   "pygments_lexer": "ipython3",
   "version": "3.8.2"
  }
 },
 "nbformat": 4,
 "nbformat_minor": 4
}
